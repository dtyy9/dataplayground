{
  "nbformat": 4,
  "nbformat_minor": 0,
  "metadata": {
    "colab": {
      "provenance": []
    },
    "kernelspec": {
      "name": "python3",
      "display_name": "Python 3"
    },
    "language_info": {
      "name": "python"
    }
  },
  "cells": [
    {
      "cell_type": "code",
      "execution_count": 22,
      "metadata": {
        "id": "pyPJsTq5pR8q"
      },
      "outputs": [],
      "source": [
        "import numpy as np\n",
        "class twoClassLogisticRegression():\n",
        "  def __init__(self, lbda=1., tol=0.001, alpha=0.1):\n",
        "    self.lbda = lbda\n",
        "    self.tol = tol\n",
        "    self.alpha = alpha\n",
        "  \n",
        "  def logistic(self, u):\n",
        "    #u = w0 + w1*x1 + w2*x2\n",
        "    return 1./(1.+np.exp(-u))\n",
        "  \n",
        "  def fit(self, X, Y):\n",
        "    # training the model\n",
        "    #X is a matrix with shape N by p\n",
        "    #number of instances\n",
        "    N = X.shape[0]\n",
        "    #number of features\n",
        "    p = X.shape[1]\n",
        "    #Y is the reponses\n",
        "    self._class = np.unique(Y) #list all the unique class labels\n",
        "    assert(len(self._class)==2)\n",
        "    self._class.sort()\n",
        "    self._class = list(self._class)\n",
        "    print (\"class labels:\", self._class)\n",
        "    Y_label = np.array([self._class.index(y) for y in Y]) #convert Y_label to 0 or 1\n",
        "    Y_label = Y_label[:, np.newaxis] #transform Y_label to a column vector of 0 or 1\n",
        "\n",
        "    #initialize weights, also use a bias constant w0\n",
        "    w_old = np.random.randn(p,1) #randomize w1...wp as per standard normal distribution\n",
        "    w0_old = np.random.randn(1) #randomize w0 as per standard normal distribution\n",
        "\n",
        "    while(True):\n",
        "      Y_hat = self.logistic(np.dot(X, w_old) + w0_old)\n",
        "      #calculate loss function gradient\n",
        "      g_w = -((Y_label - Y_hat) * X).mean(axis=0)[:,np.newaxis] + self.lbda * w_old\n",
        "      g_w0 = -(Y_label - Y_hat).mean(axis=0)\n",
        "      #steepest gradient descent\n",
        "      w_new = w_old - self.alpha * g_w\n",
        "      w0_new = w0_old - self.alpha * g_w0\n",
        "      if (((w_old - w_new)**2).sum() < self.tol):\n",
        "        print (\"the algorithm has converged\")\n",
        "        break\n",
        "      w_old = w_new\n",
        "      w0_old = w0_new\n",
        "\n",
        "    self.w = w_new\n",
        "    self.w0 = w0_new\n",
        "\n",
        "  def predict_prob(self, X):\n",
        "    return self.logistic(np.dot(X, self.w) + self.w0)\n",
        "\n",
        "  def predict(self, X):\n",
        "    probs = self.predict_prob(X)\n",
        "    labels = [1 if x>0.5 else 0 for x in probs] #set threshold = 0.5\n",
        "    return [self._class[label] for label in labels] #return original label content\n",
        "  \n",
        "  def score(self, X, Y):\n",
        "    Y_pred = self.predict(X)\n",
        "    accuracy = np.mean(Y == Y_pred)\n",
        "    return accuracy"
      ]
    },
    {
      "cell_type": "code",
      "source": [
        "model = twoClassLogisticRegression()"
      ],
      "metadata": {
        "id": "LlDlec6PTPFw"
      },
      "execution_count": 23,
      "outputs": []
    },
    {
      "cell_type": "code",
      "source": [
        "from sklearn.datasets import load_breast_cancer\n",
        "data = load_breast_cancer()\n",
        "X = data.data\n",
        "Y = data.target\n",
        "#get to know the number of instances and features\n",
        "print(X.shape)\n",
        "print(Y.shape)\n",
        "print(X.mean(axis=0)) #get mean of each feature"
      ],
      "metadata": {
        "colab": {
          "base_uri": "https://localhost:8080/"
        },
        "id": "Kjqh-HFTUUP2",
        "outputId": "4c025ed0-6df6-4ffc-9764-f80956a66262"
      },
      "execution_count": 24,
      "outputs": [
        {
          "output_type": "stream",
          "name": "stdout",
          "text": [
            "(569, 30)\n",
            "(569,)\n",
            "[1.41272917e+01 1.92896485e+01 9.19690334e+01 6.54889104e+02\n",
            " 9.63602812e-02 1.04340984e-01 8.87993158e-02 4.89191459e-02\n",
            " 1.81161863e-01 6.27976098e-02 4.05172056e-01 1.21685343e+00\n",
            " 2.86605923e+00 4.03370791e+01 7.04097891e-03 2.54781388e-02\n",
            " 3.18937163e-02 1.17961371e-02 2.05422988e-02 3.79490387e-03\n",
            " 1.62691898e+01 2.56772232e+01 1.07261213e+02 8.80583128e+02\n",
            " 1.32368594e-01 2.54265044e-01 2.72188483e-01 1.14606223e-01\n",
            " 2.90075571e-01 8.39458172e-02]\n"
          ]
        }
      ]
    },
    {
      "cell_type": "code",
      "source": [
        "#data preprocessing standardization\n",
        "from sklearn.preprocessing import StandardScaler\n",
        "sc = StandardScaler()\n",
        "X = sc.fit_transform(X) #standardization\n",
        "print (X.mean(axis=0))"
      ],
      "metadata": {
        "colab": {
          "base_uri": "https://localhost:8080/"
        },
        "id": "0P75CyVcWfPW",
        "outputId": "57798389-abd0-49c8-cec5-dcd6d95d92d8"
      },
      "execution_count": 25,
      "outputs": [
        {
          "output_type": "stream",
          "name": "stdout",
          "text": [
            "[-3.16286735e-15 -6.53060890e-15 -7.07889127e-16 -8.79983452e-16\n",
            "  6.13217737e-15 -1.12036918e-15 -4.42138027e-16  9.73249991e-16\n",
            " -1.97167024e-15 -1.45363120e-15 -9.07641468e-16 -8.85349205e-16\n",
            "  1.77367396e-15 -8.29155139e-16 -7.54180940e-16 -3.92187747e-16\n",
            "  7.91789988e-16 -2.73946068e-16 -3.10823423e-16 -3.36676596e-16\n",
            " -2.33322442e-15  1.76367415e-15 -1.19802625e-15  5.04966114e-16\n",
            " -5.21317026e-15 -2.17478837e-15  6.85645643e-16 -1.41265636e-16\n",
            " -2.28956670e-15  2.57517109e-15]\n"
          ]
        }
      ]
    },
    {
      "cell_type": "code",
      "source": [
        "model.fit(X,Y)"
      ],
      "metadata": {
        "colab": {
          "base_uri": "https://localhost:8080/"
        },
        "id": "KQda9vFobjs4",
        "outputId": "0b038313-15a9-48bb-caa8-1bfac2960ec2"
      },
      "execution_count": 26,
      "outputs": [
        {
          "output_type": "stream",
          "name": "stdout",
          "text": [
            "class labels: [0, 1]\n",
            "the algorithm has converged\n"
          ]
        }
      ]
    },
    {
      "cell_type": "code",
      "source": [
        "model.score(X,Y) #training accuracy"
      ],
      "metadata": {
        "colab": {
          "base_uri": "https://localhost:8080/"
        },
        "id": "Ml5j7cT7c8_1",
        "outputId": "0177f16e-4938-4306-86df-fc812e9f959d"
      },
      "execution_count": 27,
      "outputs": [
        {
          "output_type": "execute_result",
          "data": {
            "text/plain": [
              "0.9560632688927944"
            ]
          },
          "metadata": {},
          "execution_count": 27
        }
      ]
    },
    {
      "cell_type": "code",
      "source": [
        "from sklearn.model_selection import train_test_split\n",
        "X_train, X_test, Y_train, Y_test = train_test_split(X,Y)"
      ],
      "metadata": {
        "id": "UFvGctuMtxQD"
      },
      "execution_count": 28,
      "outputs": []
    },
    {
      "cell_type": "code",
      "source": [
        "model.fit(X_train,Y_train)"
      ],
      "metadata": {
        "colab": {
          "base_uri": "https://localhost:8080/"
        },
        "id": "rE1yikoVuuVZ",
        "outputId": "3444329e-b6e9-438d-e5d1-ddbb8447a5ef"
      },
      "execution_count": 29,
      "outputs": [
        {
          "output_type": "stream",
          "name": "stdout",
          "text": [
            "class labels: [0, 1]\n",
            "the algorithm has converged\n"
          ]
        }
      ]
    },
    {
      "cell_type": "code",
      "source": [
        "model.score(X_test,Y_test) #test accuracy"
      ],
      "metadata": {
        "colab": {
          "base_uri": "https://localhost:8080/"
        },
        "id": "dy1qM5A_u1l9",
        "outputId": "fdb7345f-1083-4080-a29d-ecd58b4eb687"
      },
      "execution_count": 30,
      "outputs": [
        {
          "output_type": "execute_result",
          "data": {
            "text/plain": [
              "0.965034965034965"
            ]
          },
          "metadata": {},
          "execution_count": 30
        }
      ]
    }
  ]
}